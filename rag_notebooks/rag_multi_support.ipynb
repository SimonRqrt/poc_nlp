{
 "cells": [
  {
   "cell_type": "markdown",
   "metadata": {},
   "source": [
    "# Mise en place d'un RAG avec plusieurs supports"
   ]
  },
  {
   "cell_type": "markdown",
   "metadata": {},
   "source": [
    "## Connexions Azure"
   ]
  },
  {
   "cell_type": "code",
   "execution_count": 2,
   "metadata": {},
   "outputs": [],
   "source": [
    "import os\n",
    "from dotenv import load_dotenv\n",
    "\n",
    "from langchain_openai import AzureChatOpenAI\n",
    "from langchain_openai import AzureOpenAIEmbeddings\n",
    "\n",
    "load_dotenv()\n",
    "\n",
    "llm = AzureChatOpenAI(\n",
    "    azure_deployment=os.getenv(\"DEPLOYMENT_NAME_LLM\"),\n",
    "    openai_api_version=\"2023-06-01-preview\",\n",
    "    model_version=\"0301\",\n",
    ")\n",
    "\n",
    "embedding = AzureOpenAIEmbeddings(\n",
    "    azure_deployment=os.getenv(\"DEPLOYMENT_NAME_EMBEDDING\"),\n",
    "    openai_api_version=\"2023-05-15\",\n",
    ")"
   ]
  },
  {
   "cell_type": "markdown",
   "metadata": {},
   "source": [
    "## Récupération de \"doc\" à partir de wikipedia, youtube et pdf"
   ]
  },
  {
   "cell_type": "code",
   "execution_count": 3,
   "metadata": {},
   "outputs": [],
   "source": [
    "from langchain_community.document_loaders import WikipediaLoader\n",
    "\n",
    "doc_wiki = WikipediaLoader(query=\"Politics of France\", load_max_docs=1, doc_content_chars_max=10000).load()[0]"
   ]
  },
  {
   "cell_type": "code",
   "execution_count": 3,
   "metadata": {},
   "outputs": [
    {
     "name": "stdout",
     "output_type": "stream",
     "text": [
      "page_content='The politics of France take place with the framework of a semi-presidential system determined by the French Constitution of the French Fifth Republic. The nation declares itself to be an \"indivisible, secular, democratic, and social Republic\". The constitution provides for a separation of powers and proclaims France\\'s \"attachment to the Rights of Man and the principles of National Sovereignty as defined by the Declaration of 1789\".\\nThe political system of France consists of an executive branch, a legislative branch, and a judicial branch. Executive power is exercised by the president of the republic and the Government. The Government consists of the prime minister and ministers. The prime minister is appointed by the president, and is responsible to Parliament. The government, including the prime minister, can be revoked by the National Assembly, the lower house of Parliament, through a motion of no-confidence; this ensures that the prime minister is practically always supported by a majority in the lower house (which, on most topics, has prominence over the upper house).\\nParliament consists of the National Assembly and the Senate. It passes statutes and votes on the budget; it controls the action of the executive through formal questioning on the floor of the houses of Parliament and by establishing commissions of inquiry. The constitutionality of the statutes is checked by the Constitutional Council, members of which are appointed by the president of the republic, the president of the National Assembly, and the president of the Senate. Former presidents of the republic can also be members of the Council if they want to (Valéry Giscard-d’Estaing and Jacques Chirac were the only former presidents that participated into the council\\'s work).\\nThe independent judiciary is based upon civil law system which evolved from the Napoleonic Codes. It is divided into the judicial branch (dealing with civil law and criminal law) and the administrative branch (dealing with appeals against executive decisions), each with their own independent supreme court of appeal: the Court of Cassation for the judicial courts and the Conseil d\\'Etat for the administrative courts. The French government includes various bodies that check abuses of power and independent agencies.\\nWhile France is a unitary state, its administrative subdivisions—regions, departments and communes—have various legal functions, and the national government is prohibited from intruding into their normal operations. France was a founding member of the European Coal and Steel Community, later the European Union. As such, France has transferred part of its sovereignty to European institutions, as provided by its constitution. The French government therefore has to abide by European treaties, directives and regulations. According to the V-Dem Democracy indices France was 2023 the 10th most electoral democratic country in the world.\\n\\n\\n== Constitution ==\\n\\nA popular referendum approved the constitution of the French Fifth Republic in 1958, greatly strengthening the authority of the presidency and the executive with respect to Parliament.\\nThe constitution does not contain a bill of rights in itself, but its preamble mentions that France should follow the principles of the Declaration of the Rights of Man and of the Citizen, as well as those of the preamble to the constitution of the Fourth Republic. This has been judged to imply that the principles laid forth in those texts have constitutional value, and that legislation infringing on those principles should be found unconstitutional if a recourse is filed before the Constitutional Council. Also, recent modifications of the Constitution have added a reference in the preamble to an Environment charter that has full constitutional value, and a right for citizens to contest the constitutionality of a statute before the Constitutional Council.\\nThe foundational principles of the constitution include: the equality of all citizens before law, and the rejection of special class privileges such as those that existed prior to the French Revolution; presumption of innocence; freedom of speech; freedom of opinion including freedom of religion; the guarantee of property against arbitrary seizure; the accountability of government agents to the citizenry.\\n\\n\\n== Executive ==\\nFrance has a semi-presidential system of government, with both a president and a prime minister. The prime minister is responsible to the French Parliament. A presidential candidate is required to obtain a nationwide majority of non-blank votes at either the first or second round of balloting, which implies that the president is somewhat supported by at least half of the voting population.\\n\\n\\n=== President ===\\nAs a consequence, the president of France is the pre-eminent figure in French politics. He appoints the prime minister and chairs the Council of Ministers (Cabinet meeting). Though the president may not de jure dismiss the prime minister, nevertheless, if the prime minister is from the same political side, they can, in practice, have them resign on demand (De Gaulle is said to have initiated this practice \"by requiring undated letters of resignation from his nominees to the premiership,\" though more recent presidents have not necessarily used this method). The president appoints the ministers, ministers-delegate and secretaries on the prime minister\\'s proposal. When the president\\'s political party or supporters control parliament, the president is the dominant player in executive action, choosing whomever he wishes for the government, and having it follow his political agenda (parliamentary disagreements do occur, though, even within the same party).\\nHowever, when the president\\'s political opponents control parliament, the president\\'s dominance can be severely limited, as they must choose a prime minister and government who reflect the majority in parliament, and who may implement the agenda of the parliamentary majority. When parties from opposite ends of the political spectrum control parliament and the presidency, the power-sharing arrangement is known as cohabitation. Before 2002, cohabitation occurred more commonly, because the term of the president was seven years and the term of the National Assembly was five years. With the term of the president shortened to five years, and with the presidential and parliamentary elections separated by only a few months, this is less likely to happen.\\nEmmanuel Macron became president on 14 May 2017, succeeding François Hollande. In the 2022 presidential election President Macron was re-elected after beating his far-right rival, Marine Le Pen, in the runoff. He was the first re-elected incumbent French president since 2002. \\n\\n\\n=== Government ===\\nThe prime minister leads the government, which comprises junior and senior ministers. It has at its disposal the civil service, government agencies, and the armed forces. The government is responsible to Parliament, and the National Assembly may pass a motion of censure, forcing the resignation of the government. This, in practice, forces the government to reflect the same political party or coalition which has the majority in the Assembly. Ministers have to answer questions from members of Parliament, both written and oral; this is known as the questions au gouvernement (\"questions to the government\"). In addition, ministers attend meetings of the houses of Parliament when laws pertaining to their areas of responsibility are being discussed.\\nGovernment ministers cannot pass legislation without parliamentary approval, though the prime minister may issue autonomous regulations or subordinated regulations (décrets d\\'application) provided they do not infringe on the Parliament domain, as detailed in the constitution. Ministers, however, can propose legislation to Parliament; since the Assembly is usually politically allied to the ministers, such legislation is, in general, very likely to pass (unless there is a hung parliament as it is currently the case as of 2023). However, this is not guaranteed, and, on occasion, the opinion of the majority parliamentarians may differ significantly from those of the executive, which often results in a large number of amendments.\\nThe prime minister can commit the government\\'s responsibility on a bill (effectively treating the bill as an issue of a confidence vote), under the provisions of article 49.3 of the Constitution. The bill is then considered passed unless the National Assembly votes a motion of no-confidence (French: motion de censure), in which case the bill is defeated and the government has to resign. As of 2006, the use of this article was the \"First Employment Contract\" proposed by Prime Minister Dominique de Villepin, a move that greatly backfired.\\nTraditionally, the government comprises members of three ranks. Ministers are the most senior members of the government; deputy ministers (ministres délégués) assist ministers in particular areas of their portfolio; state secretaries (secrétaires d\\'État) assist ministers in less important areas, and attend government meetings only occasionally. Before the founding of the Fifth Republic in 1958, some ministers of particular political importance were called \"Ministers of State\" (ministres d\\'État); the practice has continued under the Fifth Republic in a mostly honorific fashion: ministers styled \"Minister of State\" are of higher importance in the gouvernement and have the ability to deputize for the PM and the authority to hold inter-ministerial meetings.\\nThe number of ministries and the division of responsibilities and administrations between them varies from government to government. While the name and exact responsibility of each ministry may change, one generally finds at least: \\n\\nMinistry for the Economy, Industry and Employment (taxes, budget)\\nMinistry of the Interior (law enforcement, relationships with local governments)\\nMinistry of Justice and Keeper of the Seals (prisons, running the' metadata={'title': 'Politics of France', 'summary': 'The politics of France take place with the framework of a semi-presidential system determined by the French Constitution of the French Fifth Republic. The nation declares itself to be an \"indivisible, secular, democratic, and social Republic\". The constitution provides for a separation of powers and proclaims France\\'s \"attachment to the Rights of Man and the principles of National Sovereignty as defined by the Declaration of 1789\".\\nThe political system of France consists of an executive branch, a legislative branch, and a judicial branch. Executive power is exercised by the president of the republic and the Government. The Government consists of the prime minister and ministers. The prime minister is appointed by the president, and is responsible to Parliament. The government, including the prime minister, can be revoked by the National Assembly, the lower house of Parliament, through a motion of no-confidence; this ensures that the prime minister is practically always supported by a majority in the lower house (which, on most topics, has prominence over the upper house).\\nParliament consists of the National Assembly and the Senate. It passes statutes and votes on the budget; it controls the action of the executive through formal questioning on the floor of the houses of Parliament and by establishing commissions of inquiry. The constitutionality of the statutes is checked by the Constitutional Council, members of which are appointed by the president of the republic, the president of the National Assembly, and the president of the Senate. Former presidents of the republic can also be members of the Council if they want to (Valéry Giscard-d’Estaing and Jacques Chirac were the only former presidents that participated into the council\\'s work).\\nThe independent judiciary is based upon civil law system which evolved from the Napoleonic Codes. It is divided into the judicial branch (dealing with civil law and criminal law) and the administrative branch (dealing with appeals against executive decisions), each with their own independent supreme court of appeal: the Court of Cassation for the judicial courts and the Conseil d\\'Etat for the administrative courts. The French government includes various bodies that check abuses of power and independent agencies.\\nWhile France is a unitary state, its administrative subdivisions—regions, departments and communes—have various legal functions, and the national government is prohibited from intruding into their normal operations. France was a founding member of the European Coal and Steel Community, later the European Union. As such, France has transferred part of its sovereignty to European institutions, as provided by its constitution. The French government therefore has to abide by European treaties, directives and regulations. According to the V-Dem Democracy indices France was 2023 the 10th most electoral democratic country in the world.', 'source': 'https://en.wikipedia.org/wiki/Politics_of_France'}\n",
      "{'title': 'Politics of France', 'summary': 'The politics of France take place with the framework of a semi-presidential system determined by the French Constitution of the French Fifth Republic. The nation declares itself to be an \"indivisible, secular, democratic, and social Republic\". The constitution provides for a separation of powers and proclaims France\\'s \"attachment to the Rights of Man and the principles of National Sovereignty as defined by the Declaration of 1789\".\\nThe political system of France consists of an executive branch, a legislative branch, and a judicial branch. Executive power is exercised by the president of the republic and the Government. The Government consists of the prime minister and ministers. The prime minister is appointed by the president, and is responsible to Parliament. The government, including the prime minister, can be revoked by the National Assembly, the lower house of Parliament, through a motion of no-confidence; this ensures that the prime minister is practically always supported by a majority in the lower house (which, on most topics, has prominence over the upper house).\\nParliament consists of the National Assembly and the Senate. It passes statutes and votes on the budget; it controls the action of the executive through formal questioning on the floor of the houses of Parliament and by establishing commissions of inquiry. The constitutionality of the statutes is checked by the Constitutional Council, members of which are appointed by the president of the republic, the president of the National Assembly, and the president of the Senate. Former presidents of the republic can also be members of the Council if they want to (Valéry Giscard-d’Estaing and Jacques Chirac were the only former presidents that participated into the council\\'s work).\\nThe independent judiciary is based upon civil law system which evolved from the Napoleonic Codes. It is divided into the judicial branch (dealing with civil law and criminal law) and the administrative branch (dealing with appeals against executive decisions), each with their own independent supreme court of appeal: the Court of Cassation for the judicial courts and the Conseil d\\'Etat for the administrative courts. The French government includes various bodies that check abuses of power and independent agencies.\\nWhile France is a unitary state, its administrative subdivisions—regions, departments and communes—have various legal functions, and the national government is prohibited from intruding into their normal operations. France was a founding member of the European Coal and Steel Community, later the European Union. As such, France has transferred part of its sovereignty to European institutions, as provided by its constitution. The French government therefore has to abide by European treaties, directives and regulations. According to the V-Dem Democracy indices France was 2023 the 10th most electoral democratic country in the world.', 'source': 'https://en.wikipedia.org/wiki/Politics_of_France'}\n"
     ]
    }
   ],
   "source": [
    "print(doc_wiki)\n",
    "print(doc_wiki.metadata)"
   ]
  },
  {
   "cell_type": "code",
   "execution_count": 4,
   "metadata": {},
   "outputs": [],
   "source": [
    "from langchain_community.document_loaders import YoutubeLoader\n",
    "from langchain.schema import Document\n",
    "\n",
    "transcript_loader = YoutubeLoader(video_id=\"0HsVv8NoSdk\")\n",
    "transcription = transcript_loader.load()[0]"
   ]
  },
  {
   "cell_type": "code",
   "execution_count": 8,
   "metadata": {},
   "outputs": [
    {
     "name": "stdout",
     "output_type": "stream",
     "text": [
      "page_content=\"president Emanuel Macon has shocked France by announcing a snap parliamentary election after his Alliance suffered a big defeat by the populist right in European Union elections Mr Mall said he couldn't ignore the result and dissolving Parliament was an act of trust in the French people the national rally party led by Marine Lupen is on course to win a record 32% of the vote in the elections for the European Parliament that's more than double the Coalition which supports president Macon and so he responded by calling the unexpected snap election yes the far right is both the result of the impoverishment of the French and the downgrading of our country so at the end of this day I cannot act as if nothing had happened added to this situation is a fever which has gripped public and parliamentary debate in our country in recent years a disorder which I know worries you sometimes shocks you and to which I do not intend to give in however today the challenges that present themselves to us whether external dangers climate change and its consequences or threats to our own cohesion these challenges require Clarity in our debates ambition for the country and respect for every French person this is why after having carried out the consultations provided for in article 12 of our constitution I decided to put back in your hands the choice of our parliamentary future by the vote well for the French far right the result is one to celebrate here's marinen the French have spoken and this historic election shows that when the people vote the people win by giving more than 32% to the National rally the French have just given as the highest score all parties combin in 40 years it's a real emotion to see this beautiful popular Force rising up throughout the country well that was Marine Leen and the all out in France but elsewhere in Europe voters snub the governing parties of Germany Spain and Belgium results show that overall the center parties will be the largest Block in the European Parliament here's the president Roberto metsa in this Parliament it doesn't work with a government and an opposition it works with majorities we can see that the constructive pro-european Center has held and it is that Center that will be projected to build uh on the projects that we need to work with well the president of the European commission Ursula V delion has described the results across the EU as a victory for the center now this election has given us two messages first there remains a majority in the center for strong Europe and that is crucial for stability in other words the center is holding but it is also true that the extremes on the left and on the right have gained support and this is why the result comes with great responsibility for the parties in the center well now let's listen to some more reaction uh from ker uh there was certainly an expectation that uh the Europe would be moving rightwards and after all there are a growing number of governments that are in Alliance with the far right nationally and so in many ways the result that we saw uh on Sunday was sort of a confirmation of that now I mean as your uh previous reporter as the reporter said it does look like the center will hold however the center of gravity uh of the European Parliament has most certainly moved right word that was James caner the host of the EU scream podcast well let's go to our Europe correspondent Nick beak next uh who can talk through some of this with us Nick it's good to have you uh the French newspaper L is reporting that much of Mone Camp didn't know he was going to make this decision how much has this taken the country by surprise good morning as there yeah it's a huge political bombshell in France president macron last night doing this TV address and he said that he simply couldn't ignore the fact that so many people had voted for the farri right party for the national rally of marine Leen in fact they got double the number of votes than his own Centrist party so he says he's calling elections they'll take place the first round just in three weeks time and he's taking a massive gamble here last night president macron said that to be French is to write history not to be governed by it but it could well be that we find out in less than a month's time he's made a an historic Monumental error having said that it could be that he's taking the best possible course of action in the circumstance in which he finds himself in that the far rights have surged in France and maybe maybe he's thinking that these elections for this place the European Parliament don't necessarily necessarily translate into votes in the French national election and maybe there is the will and the capacity to build a coalition to keep out the far right in France even if they top the polls that's really interesting and picking up on your point about how this would translate in the uh national French national elections the rational the the RN has had a real makeover hasn't it uh so compared to its origin story how are they generally viewed and how is Marine Leen viewed in France well certainly the the far right party in France has won the last three European elections in terms of the vote in France so that is not new I think the the extent to which they trounced president macron's party yesterday was new and they will s would certainly be hoping that they're on the crest of a wave here and can consolidate this success in the the national elections yes certainly maren Le Pen has tried to change the image of this party to detoxify it as some may say of course it was her father who who for many people was seen as the unacceptable face of France even though they were picking up uh picking up votes some 203 years ago there was always this alliance against them but in the past couple of years they've used very Savvy marketing and other sort of PR tools at their disposal they've been big on Tik Tok they've got a 28-year-old leader now leading the party and they seem to be picking up the youth vote which has been an interesting Dynamic so rather than talk about as president macron has about the stability of Europe and geopolitical matters and it's clear that he is someone who who likes that role that he takes on the global stage the the national rally have been talking about making lives better for for younger people the cost of living crisis as they call it and all that sort of stuff trying to to paint this positive vision of France all right Nick thank you for that and uh if you're interested in more about the results of the European elections there is plenty more on our BBC News uh website and app and we will continue to hear from Nick uh throughout the day\" metadata={'source': '0HsVv8NoSdk'}\n",
      "{'source': '0HsVv8NoSdk'}\n"
     ]
    }
   ],
   "source": [
    "print(transcription)\n",
    "print(transcription.metadata)"
   ]
  },
  {
   "cell_type": "markdown",
   "metadata": {},
   "source": [
    "## Combinaison et split des docs"
   ]
  },
  {
   "cell_type": "code",
   "execution_count": 5,
   "metadata": {},
   "outputs": [],
   "source": [
    "from langchain_text_splitters import RecursiveCharacterTextSplitter\n",
    "\n",
    "text_splitter = RecursiveCharacterTextSplitter(\n",
    "    chunk_size=1000, chunk_overlap=200, add_start_index=True\n",
    ")\n",
    "\n",
    "docs = [\n",
    "    Document(page_content=doc_wiki.page_content, metadata={\"source\": doc_wiki.metadata[\"source\"]}), \n",
    "    Document(page_content=transcription.page_content, metadata={\"source\": transcription.metadata[\"source\"]}),\n",
    "    ]\n",
    "\n",
    "doc_splits = text_splitter.split_documents(docs)"
   ]
  },
  {
   "cell_type": "code",
   "execution_count": 16,
   "metadata": {},
   "outputs": [
    {
     "name": "stdout",
     "output_type": "stream",
     "text": [
      "26\n"
     ]
    }
   ],
   "source": [
    "print(len(doc_splits))"
   ]
  },
  {
   "cell_type": "markdown",
   "metadata": {},
   "source": [
    "## Création d'un client Chroma"
   ]
  },
  {
   "cell_type": "code",
   "execution_count": 6,
   "metadata": {},
   "outputs": [],
   "source": [
    "import chromadb\n",
    "from langchain_chroma import Chroma\n",
    "\n",
    "client = chromadb.EphemeralClient()"
   ]
  },
  {
   "cell_type": "markdown",
   "metadata": {},
   "source": [
    "## Embedding des docs avec chroma et enregistrement dans une collection du client"
   ]
  },
  {
   "cell_type": "code",
   "execution_count": 7,
   "metadata": {},
   "outputs": [],
   "source": [
    "# docs = [doc_wiki_splits, doc_youtube_splits]\n",
    "# ids = [\"wiki\", \"youtube\"]\n",
    "# collection = client.get_or_create_collection(\"rag_collection\")\n",
    "# collection.add(ids=ids, documents=docs)\n",
    "\n",
    "vectorstore = Chroma.from_documents(\n",
    "    documents=docs,\n",
    "    embedding=embedding,\n",
    "    client=client,\n",
    "    collection_name=\"rag_collection\",\n",
    ")"
   ]
  },
  {
   "cell_type": "markdown",
   "metadata": {},
   "source": [
    "## Création du retriever"
   ]
  },
  {
   "cell_type": "code",
   "execution_count": 8,
   "metadata": {},
   "outputs": [],
   "source": [
    "retriever = vectorstore.as_retriever()"
   ]
  },
  {
   "cell_type": "markdown",
   "metadata": {},
   "source": [
    "## Création de la rag chain"
   ]
  },
  {
   "cell_type": "markdown",
   "metadata": {},
   "source": [
    "### Version 1"
   ]
  },
  {
   "cell_type": "code",
   "execution_count": 19,
   "metadata": {},
   "outputs": [
    {
     "name": "stdout",
     "output_type": "stream",
     "text": [
      "Macron announced a snap parliamentary election after his Alliance suffered a big defeat by the populist right in European Union elections. He said that he couldn't ignore the result and dissolving Parliament was an act of trust in the French people. The national rally party led by Marine Le Pen is on course to win a record 32% of the vote in the elections for the European Parliament, which is more than double the Coalition which supports President Macron."
     ]
    }
   ],
   "source": [
    "from langchain import hub\n",
    "from langchain_core.output_parsers import StrOutputParser\n",
    "from langchain_core.runnables import RunnablePassthrough\n",
    "\n",
    "prompt = hub.pull(\"rlm/rag-prompt\")\n",
    "\n",
    "def format_docs(docs):\n",
    "    return \"\\n\\n\".join(doc.page_content for doc in docs)\n",
    "\n",
    "rag_chain = (\n",
    "    {\"context\": retriever | format_docs, \"question\": RunnablePassthrough()}\n",
    "    | prompt\n",
    "    | llm\n",
    "    | StrOutputParser()\n",
    ")\n",
    "\n",
    "for chunck in rag_chain.stream(\"Qu'est ce que Macron a annoncé concernant l'assemblée ?\"):\n",
    "    print(chunck, end=\"\", flush=True)"
   ]
  },
  {
   "cell_type": "markdown",
   "metadata": {},
   "source": [
    "### Version 2"
   ]
  },
  {
   "cell_type": "code",
   "execution_count": 9,
   "metadata": {},
   "outputs": [
    {
     "name": "stderr",
     "output_type": "stream",
     "text": [
      "Number of requested results 4 is greater than number of elements in index 2, updating n_results = 2\n"
     ]
    },
    {
     "name": "stdout",
     "output_type": "stream",
     "text": [
      "{'input': 'Explique moi comment fonctionne le parlement en France', 'context': [Document(page_content='The politics of France take place with the framework of a semi-presidential system determined by the French Constitution of the French Fifth Republic. The nation declares itself to be an \"indivisible, secular, democratic, and social Republic\". The constitution provides for a separation of powers and proclaims France\\'s \"attachment to the Rights of Man and the principles of National Sovereignty as defined by the Declaration of 1789\".\\nThe political system of France consists of an executive branch, a legislative branch, and a judicial branch. Executive power is exercised by the president of the republic and the Government. The Government consists of the prime minister and ministers. The prime minister is appointed by the president, and is responsible to Parliament. The government, including the prime minister, can be revoked by the National Assembly, the lower house of Parliament, through a motion of no-confidence; this ensures that the prime minister is practically always supported by a majority in the lower house (which, on most topics, has prominence over the upper house).\\nParliament consists of the National Assembly and the Senate. It passes statutes and votes on the budget; it controls the action of the executive through formal questioning on the floor of the houses of Parliament and by establishing commissions of inquiry. The constitutionality of the statutes is checked by the Constitutional Council, members of which are appointed by the president of the republic, the president of the National Assembly, and the president of the Senate. Former presidents of the republic can also be members of the Council if they want to (Valéry Giscard-d’Estaing and Jacques Chirac were the only former presidents that participated into the council\\'s work).\\nThe independent judiciary is based upon civil law system which evolved from the Napoleonic Codes. It is divided into the judicial branch (dealing with civil law and criminal law) and the administrative branch (dealing with appeals against executive decisions), each with their own independent supreme court of appeal: the Court of Cassation for the judicial courts and the Conseil d\\'Etat for the administrative courts. The French government includes various bodies that check abuses of power and independent agencies.\\nWhile France is a unitary state, its administrative subdivisions—regions, departments and communes—have various legal functions, and the national government is prohibited from intruding into their normal operations. France was a founding member of the European Coal and Steel Community, later the European Union. As such, France has transferred part of its sovereignty to European institutions, as provided by its constitution. The French government therefore has to abide by European treaties, directives and regulations. According to the V-Dem Democracy indices France was 2023 the 10th most electoral democratic country in the world.\\n\\n\\n== Constitution ==\\n\\nA popular referendum approved the constitution of the French Fifth Republic in 1958, greatly strengthening the authority of the presidency and the executive with respect to Parliament.\\nThe constitution does not contain a bill of rights in itself, but its preamble mentions that France should follow the principles of the Declaration of the Rights of Man and of the Citizen, as well as those of the preamble to the constitution of the Fourth Republic. This has been judged to imply that the principles laid forth in those texts have constitutional value, and that legislation infringing on those principles should be found unconstitutional if a recourse is filed before the Constitutional Council. Also, recent modifications of the Constitution have added a reference in the preamble to an Environment charter that has full constitutional value, and a right for citizens to contest the constitutionality of a statute before the Constitutional Council.\\nThe foundational principles of the constitution include: the equality of all citizens before law, and the rejection of special class privileges such as those that existed prior to the French Revolution; presumption of innocence; freedom of speech; freedom of opinion including freedom of religion; the guarantee of property against arbitrary seizure; the accountability of government agents to the citizenry.\\n\\n\\n== Executive ==\\nFrance has a semi-presidential system of government, with both a president and a prime minister. The prime minister is responsible to the French Parliament. A presidential candidate is required to obtain a nationwide majority of non-blank votes at either the first or second round of balloting, which implies that the president is somewhat supported by at least half of the voting population.\\n\\n\\n=== President ===\\nAs a consequence, the president of France is the pre-eminent figure in French politics. He appoints the prime minister and chairs the Council of Ministers (Cabinet meeting). Though the president may not de jure dismiss the prime minister, nevertheless, if the prime minister is from the same political side, they can, in practice, have them resign on demand (De Gaulle is said to have initiated this practice \"by requiring undated letters of resignation from his nominees to the premiership,\" though more recent presidents have not necessarily used this method). The president appoints the ministers, ministers-delegate and secretaries on the prime minister\\'s proposal. When the president\\'s political party or supporters control parliament, the president is the dominant player in executive action, choosing whomever he wishes for the government, and having it follow his political agenda (parliamentary disagreements do occur, though, even within the same party).\\nHowever, when the president\\'s political opponents control parliament, the president\\'s dominance can be severely limited, as they must choose a prime minister and government who reflect the majority in parliament, and who may implement the agenda of the parliamentary majority. When parties from opposite ends of the political spectrum control parliament and the presidency, the power-sharing arrangement is known as cohabitation. Before 2002, cohabitation occurred more commonly, because the term of the president was seven years and the term of the National Assembly was five years. With the term of the president shortened to five years, and with the presidential and parliamentary elections separated by only a few months, this is less likely to happen.\\nEmmanuel Macron became president on 14 May 2017, succeeding François Hollande. In the 2022 presidential election President Macron was re-elected after beating his far-right rival, Marine Le Pen, in the runoff. He was the first re-elected incumbent French president since 2002. \\n\\n\\n=== Government ===\\nThe prime minister leads the government, which comprises junior and senior ministers. It has at its disposal the civil service, government agencies, and the armed forces. The government is responsible to Parliament, and the National Assembly may pass a motion of censure, forcing the resignation of the government. This, in practice, forces the government to reflect the same political party or coalition which has the majority in the Assembly. Ministers have to answer questions from members of Parliament, both written and oral; this is known as the questions au gouvernement (\"questions to the government\"). In addition, ministers attend meetings of the houses of Parliament when laws pertaining to their areas of responsibility are being discussed.\\nGovernment ministers cannot pass legislation without parliamentary approval, though the prime minister may issue autonomous regulations or subordinated regulations (décrets d\\'application) provided they do not infringe on the Parliament domain, as detailed in the constitution. Ministers, however, can propose legislation to Parliament; since the Assembly is usually politically allied to the ministers, such legislation is, in general, very likely to pass (unless there is a hung parliament as it is currently the case as of 2023). However, this is not guaranteed, and, on occasion, the opinion of the majority parliamentarians may differ significantly from those of the executive, which often results in a large number of amendments.\\nThe prime minister can commit the government\\'s responsibility on a bill (effectively treating the bill as an issue of a confidence vote), under the provisions of article 49.3 of the Constitution. The bill is then considered passed unless the National Assembly votes a motion of no-confidence (French: motion de censure), in which case the bill is defeated and the government has to resign. As of 2006, the use of this article was the \"First Employment Contract\" proposed by Prime Minister Dominique de Villepin, a move that greatly backfired.\\nTraditionally, the government comprises members of three ranks. Ministers are the most senior members of the government; deputy ministers (ministres délégués) assist ministers in particular areas of their portfolio; state secretaries (secrétaires d\\'État) assist ministers in less important areas, and attend government meetings only occasionally. Before the founding of the Fifth Republic in 1958, some ministers of particular political importance were called \"Ministers of State\" (ministres d\\'État); the practice has continued under the Fifth Republic in a mostly honorific fashion: ministers styled \"Minister of State\" are of higher importance in the gouvernement and have the ability to deputize for the PM and the authority to hold inter-ministerial meetings.\\nThe number of ministries and the division of responsibilities and administrations between them varies from government to government. While the name and exact responsibility of each ministry may change, one generally finds at least: \\n\\nMinistry for the Economy, Industry and Employment (taxes, budget)\\nMinistry of the Interior (law enforcement, relationships with local governments)\\nMinistry of Justice and Keeper of the Seals (prisons, running the', metadata={'source': 'https://en.wikipedia.org/wiki/Politics_of_France'}), Document(page_content=\"president Emanuel Macon has shocked France by announcing a snap parliamentary election after his Alliance suffered a big defeat by the populist right in European Union elections Mr Mall said he couldn't ignore the result and dissolving Parliament was an act of trust in the French people the national rally party led by Marine Lupen is on course to win a record 32% of the vote in the elections for the European Parliament that's more than double the Coalition which supports president Macon and so he responded by calling the unexpected snap election yes the far right is both the result of the impoverishment of the French and the downgrading of our country so at the end of this day I cannot act as if nothing had happened added to this situation is a fever which has gripped public and parliamentary debate in our country in recent years a disorder which I know worries you sometimes shocks you and to which I do not intend to give in however today the challenges that present themselves to us whether external dangers climate change and its consequences or threats to our own cohesion these challenges require Clarity in our debates ambition for the country and respect for every French person this is why after having carried out the consultations provided for in article 12 of our constitution I decided to put back in your hands the choice of our parliamentary future by the vote well for the French far right the result is one to celebrate here's marinen the French have spoken and this historic election shows that when the people vote the people win by giving more than 32% to the National rally the French have just given as the highest score all parties combin in 40 years it's a real emotion to see this beautiful popular Force rising up throughout the country well that was Marine Leen and the all out in France but elsewhere in Europe voters snub the governing parties of Germany Spain and Belgium results show that overall the center parties will be the largest Block in the European Parliament here's the president Roberto metsa in this Parliament it doesn't work with a government and an opposition it works with majorities we can see that the constructive pro-european Center has held and it is that Center that will be projected to build uh on the projects that we need to work with well the president of the European commission Ursula V delion has described the results across the EU as a victory for the center now this election has given us two messages first there remains a majority in the center for strong Europe and that is crucial for stability in other words the center is holding but it is also true that the extremes on the left and on the right have gained support and this is why the result comes with great responsibility for the parties in the center well now let's listen to some more reaction uh from ker uh there was certainly an expectation that uh the Europe would be moving rightwards and after all there are a growing number of governments that are in Alliance with the far right nationally and so in many ways the result that we saw uh on Sunday was sort of a confirmation of that now I mean as your uh previous reporter as the reporter said it does look like the center will hold however the center of gravity uh of the European Parliament has most certainly moved right word that was James caner the host of the EU scream podcast well let's go to our Europe correspondent Nick beak next uh who can talk through some of this with us Nick it's good to have you uh the French newspaper L is reporting that much of Mone Camp didn't know he was going to make this decision how much has this taken the country by surprise good morning as there yeah it's a huge political bombshell in France president macron last night doing this TV address and he said that he simply couldn't ignore the fact that so many people had voted for the farri right party for the national rally of marine Leen in fact they got double the number of votes than his own Centrist party so he says he's calling elections they'll take place the first round just in three weeks time and he's taking a massive gamble here last night president macron said that to be French is to write history not to be governed by it but it could well be that we find out in less than a month's time he's made a an historic Monumental error having said that it could be that he's taking the best possible course of action in the circumstance in which he finds himself in that the far rights have surged in France and maybe maybe he's thinking that these elections for this place the European Parliament don't necessarily necessarily translate into votes in the French national election and maybe there is the will and the capacity to build a coalition to keep out the far right in France even if they top the polls that's really interesting and picking up on your point about how this would translate in the uh national French national elections the rational the the RN has had a real makeover hasn't it uh so compared to its origin story how are they generally viewed and how is Marine Leen viewed in France well certainly the the far right party in France has won the last three European elections in terms of the vote in France so that is not new I think the the extent to which they trounced president macron's party yesterday was new and they will s would certainly be hoping that they're on the crest of a wave here and can consolidate this success in the the national elections yes certainly maren Le Pen has tried to change the image of this party to detoxify it as some may say of course it was her father who who for many people was seen as the unacceptable face of France even though they were picking up uh picking up votes some 203 years ago there was always this alliance against them but in the past couple of years they've used very Savvy marketing and other sort of PR tools at their disposal they've been big on Tik Tok they've got a 28-year-old leader now leading the party and they seem to be picking up the youth vote which has been an interesting Dynamic so rather than talk about as president macron has about the stability of Europe and geopolitical matters and it's clear that he is someone who who likes that role that he takes on the global stage the the national rally have been talking about making lives better for for younger people the cost of living crisis as they call it and all that sort of stuff trying to to paint this positive vision of France all right Nick thank you for that and uh if you're interested in more about the results of the European elections there is plenty more on our BBC News uh website and app and we will continue to hear from Nick uh throughout the day\", metadata={'source': '0HsVv8NoSdk'})], 'answer': \"Le parlement en France se compose de deux chambres : l'Assemblée nationale et le Sénat. Ensemble, ils passent des lois et votent sur le budget. Le gouvernement est responsable devant le parlement et peut être renversé par une motion de censure de l'Assemblée nationale. Les ministres doivent répondre aux questions des membres du parlement et proposer des lois qui doivent être approuvées par le parlement. Le Conseil constitutionnel vérifie la constitutionnalité des lois.\"}\n",
      "Le parlement en France se compose de deux chambres : l'Assemblée nationale et le Sénat. Ensemble, ils passent des lois et votent sur le budget. Le gouvernement est responsable devant le parlement et peut être renversé par une motion de censure de l'Assemblée nationale. Les ministres doivent répondre aux questions des membres du parlement et proposer des lois qui doivent être approuvées par le parlement. Le Conseil constitutionnel vérifie la constitutionnalité des lois.\n"
     ]
    }
   ],
   "source": [
    "from langchain.chains import create_retrieval_chain\n",
    "from langchain.chains.combine_documents import create_stuff_documents_chain\n",
    "from langchain_core.prompts import ChatPromptTemplate\n",
    "\n",
    "system_prompt = (\n",
    "    \"You are an assistant for question-answering tasks. \"\n",
    "    \"Use the following pieces of retrieved context to answer \"\n",
    "    \"the question. If you don't know the answer, say that you \"\n",
    "    \"don't know. Use three sentences maximum and keep the \"\n",
    "    \"answer concise.\"\n",
    "    \"\\n\\n\"\n",
    "    \"{context}\"\n",
    ")\n",
    "\n",
    "prompt = ChatPromptTemplate.from_messages(\n",
    "    [\n",
    "        (\"system\", system_prompt),\n",
    "        (\"human\", \"{input}\"),\n",
    "    ]\n",
    ")\n",
    "\n",
    "question_answer_chain = create_stuff_documents_chain(llm, prompt)\n",
    "rag_chain = create_retrieval_chain(retriever, question_answer_chain)\n",
    "\n",
    "response = rag_chain.invoke({\"input\": \"Explique moi comment fonctionne le parlement en France\"})\n",
    "print(response)\n",
    "print(response[\"answer\"])"
   ]
  },
  {
   "cell_type": "code",
   "execution_count": 12,
   "metadata": {},
   "outputs": [
    {
     "name": "stdout",
     "output_type": "stream",
     "text": [
      "page_content='The politics of France take place with the framework of a semi-presidential system determined by the French Constitution of the French Fifth Republic. The nation declares itself to be an \"indivisible, secular, democratic, and social Republic\". The constitution provides for a separation of powers and proclaims France\\'s \"attachment to the Rights of Man and the principles of National Sovereignty as defined by the Declaration of 1789\".\\nThe political system of France consists of an executive branch, a legislative branch, and a judicial branch. Executive power is exercised by the president of the republic and the Government. The Government consists of the prime minister and ministers. The prime minister is appointed by the president, and is responsible to Parliament. The government, including the prime minister, can be revoked by the National Assembly, the lower house of Parliament, through a motion of no-confidence; this ensures that the prime minister is practically always supported by a majority in the lower house (which, on most topics, has prominence over the upper house).\\nParliament consists of the National Assembly and the Senate. It passes statutes and votes on the budget; it controls the action of the executive through formal questioning on the floor of the houses of Parliament and by establishing commissions of inquiry. The constitutionality of the statutes is checked by the Constitutional Council, members of which are appointed by the president of the republic, the president of the National Assembly, and the president of the Senate. Former presidents of the republic can also be members of the Council if they want to (Valéry Giscard-d’Estaing and Jacques Chirac were the only former presidents that participated into the council\\'s work).\\nThe independent judiciary is based upon civil law system which evolved from the Napoleonic Codes. It is divided into the judicial branch (dealing with civil law and criminal law) and the administrative branch (dealing with appeals against executive decisions), each with their own independent supreme court of appeal: the Court of Cassation for the judicial courts and the Conseil d\\'Etat for the administrative courts. The French government includes various bodies that check abuses of power and independent agencies.\\nWhile France is a unitary state, its administrative subdivisions—regions, departments and communes—have various legal functions, and the national government is prohibited from intruding into their normal operations. France was a founding member of the European Coal and Steel Community, later the European Union. As such, France has transferred part of its sovereignty to European institutions, as provided by its constitution. The French government therefore has to abide by European treaties, directives and regulations. According to the V-Dem Democracy indices France was 2023 the 10th most electoral democratic country in the world.\\n\\n\\n== Constitution ==\\n\\nA popular referendum approved the constitution of the French Fifth Republic in 1958, greatly strengthening the authority of the presidency and the executive with respect to Parliament.\\nThe constitution does not contain a bill of rights in itself, but its preamble mentions that France should follow the principles of the Declaration of the Rights of Man and of the Citizen, as well as those of the preamble to the constitution of the Fourth Republic. This has been judged to imply that the principles laid forth in those texts have constitutional value, and that legislation infringing on those principles should be found unconstitutional if a recourse is filed before the Constitutional Council. Also, recent modifications of the Constitution have added a reference in the preamble to an Environment charter that has full constitutional value, and a right for citizens to contest the constitutionality of a statute before the Constitutional Council.\\nThe foundational principles of the constitution include: the equality of all citizens before law, and the rejection of special class privileges such as those that existed prior to the French Revolution; presumption of innocence; freedom of speech; freedom of opinion including freedom of religion; the guarantee of property against arbitrary seizure; the accountability of government agents to the citizenry.\\n\\n\\n== Executive ==\\nFrance has a semi-presidential system of government, with both a president and a prime minister. The prime minister is responsible to the French Parliament. A presidential candidate is required to obtain a nationwide majority of non-blank votes at either the first or second round of balloting, which implies that the president is somewhat supported by at least half of the voting population.\\n\\n\\n=== President ===\\nAs a consequence, the president of France is the pre-eminent figure in French politics. He appoints the prime minister and chairs the Council of Ministers (Cabinet meeting). Though the president may not de jure dismiss the prime minister, nevertheless, if the prime minister is from the same political side, they can, in practice, have them resign on demand (De Gaulle is said to have initiated this practice \"by requiring undated letters of resignation from his nominees to the premiership,\" though more recent presidents have not necessarily used this method). The president appoints the ministers, ministers-delegate and secretaries on the prime minister\\'s proposal. When the president\\'s political party or supporters control parliament, the president is the dominant player in executive action, choosing whomever he wishes for the government, and having it follow his political agenda (parliamentary disagreements do occur, though, even within the same party).\\nHowever, when the president\\'s political opponents control parliament, the president\\'s dominance can be severely limited, as they must choose a prime minister and government who reflect the majority in parliament, and who may implement the agenda of the parliamentary majority. When parties from opposite ends of the political spectrum control parliament and the presidency, the power-sharing arrangement is known as cohabitation. Before 2002, cohabitation occurred more commonly, because the term of the president was seven years and the term of the National Assembly was five years. With the term of the president shortened to five years, and with the presidential and parliamentary elections separated by only a few months, this is less likely to happen.\\nEmmanuel Macron became president on 14 May 2017, succeeding François Hollande. In the 2022 presidential election President Macron was re-elected after beating his far-right rival, Marine Le Pen, in the runoff. He was the first re-elected incumbent French president since 2002. \\n\\n\\n=== Government ===\\nThe prime minister leads the government, which comprises junior and senior ministers. It has at its disposal the civil service, government agencies, and the armed forces. The government is responsible to Parliament, and the National Assembly may pass a motion of censure, forcing the resignation of the government. This, in practice, forces the government to reflect the same political party or coalition which has the majority in the Assembly. Ministers have to answer questions from members of Parliament, both written and oral; this is known as the questions au gouvernement (\"questions to the government\"). In addition, ministers attend meetings of the houses of Parliament when laws pertaining to their areas of responsibility are being discussed.\\nGovernment ministers cannot pass legislation without parliamentary approval, though the prime minister may issue autonomous regulations or subordinated regulations (décrets d\\'application) provided they do not infringe on the Parliament domain, as detailed in the constitution. Ministers, however, can propose legislation to Parliament; since the Assembly is usually politically allied to the ministers, such legislation is, in general, very likely to pass (unless there is a hung parliament as it is currently the case as of 2023). However, this is not guaranteed, and, on occasion, the opinion of the majority parliamentarians may differ significantly from those of the executive, which often results in a large number of amendments.\\nThe prime minister can commit the government\\'s responsibility on a bill (effectively treating the bill as an issue of a confidence vote), under the provisions of article 49.3 of the Constitution. The bill is then considered passed unless the National Assembly votes a motion of no-confidence (French: motion de censure), in which case the bill is defeated and the government has to resign. As of 2006, the use of this article was the \"First Employment Contract\" proposed by Prime Minister Dominique de Villepin, a move that greatly backfired.\\nTraditionally, the government comprises members of three ranks. Ministers are the most senior members of the government; deputy ministers (ministres délégués) assist ministers in particular areas of their portfolio; state secretaries (secrétaires d\\'État) assist ministers in less important areas, and attend government meetings only occasionally. Before the founding of the Fifth Republic in 1958, some ministers of particular political importance were called \"Ministers of State\" (ministres d\\'État); the practice has continued under the Fifth Republic in a mostly honorific fashion: ministers styled \"Minister of State\" are of higher importance in the gouvernement and have the ability to deputize for the PM and the authority to hold inter-ministerial meetings.\\nThe number of ministries and the division of responsibilities and administrations between them varies from government to government. While the name and exact responsibility of each ministry may change, one generally finds at least: \\n\\nMinistry for the Economy, Industry and Employment (taxes, budget)\\nMinistry of the Interior (law enforcement, relationships with local governments)\\nMinistry of Justice and Keeper of the Seals (prisons, running the' metadata={'source': 'https://en.wikipedia.org/wiki/Politics_of_France'}\n",
      "\n",
      "page_content=\"president Emanuel Macon has shocked France by announcing a snap parliamentary election after his Alliance suffered a big defeat by the populist right in European Union elections Mr Mall said he couldn't ignore the result and dissolving Parliament was an act of trust in the French people the national rally party led by Marine Lupen is on course to win a record 32% of the vote in the elections for the European Parliament that's more than double the Coalition which supports president Macon and so he responded by calling the unexpected snap election yes the far right is both the result of the impoverishment of the French and the downgrading of our country so at the end of this day I cannot act as if nothing had happened added to this situation is a fever which has gripped public and parliamentary debate in our country in recent years a disorder which I know worries you sometimes shocks you and to which I do not intend to give in however today the challenges that present themselves to us whether external dangers climate change and its consequences or threats to our own cohesion these challenges require Clarity in our debates ambition for the country and respect for every French person this is why after having carried out the consultations provided for in article 12 of our constitution I decided to put back in your hands the choice of our parliamentary future by the vote well for the French far right the result is one to celebrate here's marinen the French have spoken and this historic election shows that when the people vote the people win by giving more than 32% to the National rally the French have just given as the highest score all parties combin in 40 years it's a real emotion to see this beautiful popular Force rising up throughout the country well that was Marine Leen and the all out in France but elsewhere in Europe voters snub the governing parties of Germany Spain and Belgium results show that overall the center parties will be the largest Block in the European Parliament here's the president Roberto metsa in this Parliament it doesn't work with a government and an opposition it works with majorities we can see that the constructive pro-european Center has held and it is that Center that will be projected to build uh on the projects that we need to work with well the president of the European commission Ursula V delion has described the results across the EU as a victory for the center now this election has given us two messages first there remains a majority in the center for strong Europe and that is crucial for stability in other words the center is holding but it is also true that the extremes on the left and on the right have gained support and this is why the result comes with great responsibility for the parties in the center well now let's listen to some more reaction uh from ker uh there was certainly an expectation that uh the Europe would be moving rightwards and after all there are a growing number of governments that are in Alliance with the far right nationally and so in many ways the result that we saw uh on Sunday was sort of a confirmation of that now I mean as your uh previous reporter as the reporter said it does look like the center will hold however the center of gravity uh of the European Parliament has most certainly moved right word that was James caner the host of the EU scream podcast well let's go to our Europe correspondent Nick beak next uh who can talk through some of this with us Nick it's good to have you uh the French newspaper L is reporting that much of Mone Camp didn't know he was going to make this decision how much has this taken the country by surprise good morning as there yeah it's a huge political bombshell in France president macron last night doing this TV address and he said that he simply couldn't ignore the fact that so many people had voted for the farri right party for the national rally of marine Leen in fact they got double the number of votes than his own Centrist party so he says he's calling elections they'll take place the first round just in three weeks time and he's taking a massive gamble here last night president macron said that to be French is to write history not to be governed by it but it could well be that we find out in less than a month's time he's made a an historic Monumental error having said that it could be that he's taking the best possible course of action in the circumstance in which he finds himself in that the far rights have surged in France and maybe maybe he's thinking that these elections for this place the European Parliament don't necessarily necessarily translate into votes in the French national election and maybe there is the will and the capacity to build a coalition to keep out the far right in France even if they top the polls that's really interesting and picking up on your point about how this would translate in the uh national French national elections the rational the the RN has had a real makeover hasn't it uh so compared to its origin story how are they generally viewed and how is Marine Leen viewed in France well certainly the the far right party in France has won the last three European elections in terms of the vote in France so that is not new I think the the extent to which they trounced president macron's party yesterday was new and they will s would certainly be hoping that they're on the crest of a wave here and can consolidate this success in the the national elections yes certainly maren Le Pen has tried to change the image of this party to detoxify it as some may say of course it was her father who who for many people was seen as the unacceptable face of France even though they were picking up uh picking up votes some 203 years ago there was always this alliance against them but in the past couple of years they've used very Savvy marketing and other sort of PR tools at their disposal they've been big on Tik Tok they've got a 28-year-old leader now leading the party and they seem to be picking up the youth vote which has been an interesting Dynamic so rather than talk about as president macron has about the stability of Europe and geopolitical matters and it's clear that he is someone who who likes that role that he takes on the global stage the the national rally have been talking about making lives better for for younger people the cost of living crisis as they call it and all that sort of stuff trying to to paint this positive vision of France all right Nick thank you for that and uh if you're interested in more about the results of the European elections there is plenty more on our BBC News uh website and app and we will continue to hear from Nick uh throughout the day\" metadata={'source': '0HsVv8NoSdk'}\n",
      "\n"
     ]
    }
   ],
   "source": [
    "for document in response[\"context\"]:\n",
    "    print(document)\n",
    "    print()"
   ]
  },
  {
   "cell_type": "markdown",
   "metadata": {},
   "source": [
    "## Utilisation du client Chroma"
   ]
  },
  {
   "cell_type": "markdown",
   "metadata": {},
   "source": [
    "### Récupération de la collection et affichage du nombre de docs"
   ]
  },
  {
   "cell_type": "code",
   "execution_count": 9,
   "metadata": {},
   "outputs": [],
   "source": [
    "collection = client.get_collection(name=\"rag_collection\")"
   ]
  },
  {
   "cell_type": "code",
   "execution_count": 10,
   "metadata": {},
   "outputs": [
    {
     "data": {
      "text/plain": [
       "2"
      ]
     },
     "execution_count": 10,
     "metadata": {},
     "output_type": "execute_result"
    }
   ],
   "source": [
    "collection.count()"
   ]
  },
  {
   "cell_type": "markdown",
   "metadata": {},
   "source": [
    "### Ajout d'un autre doc wiki au client chroma"
   ]
  },
  {
   "cell_type": "code",
   "execution_count": 11,
   "metadata": {},
   "outputs": [
    {
     "data": {
      "text/plain": [
       "3"
      ]
     },
     "execution_count": 11,
     "metadata": {},
     "output_type": "execute_result"
    }
   ],
   "source": [
    "doc_wiki_2 = WikipediaLoader(query=\"Mistral AI\", load_max_docs=1, doc_content_chars_max=10000).load()[0]\n",
    "\n",
    "docs_2 = [\n",
    "    Document(page_content=doc_wiki_2.page_content, metadata={\"source\": doc_wiki_2.metadata[\"source\"]}), \n",
    "    ]\n",
    "doc_splits_2 = text_splitter.split_documents(docs_2)\n",
    "\n",
    "vectorstore = Chroma.from_documents(\n",
    "    documents=docs_2,\n",
    "    embedding=embedding,\n",
    "    client=client,\n",
    "    collection_name=\"rag_collection\",\n",
    ")\n",
    "\n",
    "collection.count()"
   ]
  },
  {
   "cell_type": "code",
   "execution_count": 12,
   "metadata": {},
   "outputs": [],
   "source": [
    "retriever = vectorstore.as_retriever()\n",
    "\n",
    "rag_chain = create_retrieval_chain(retriever, question_answer_chain)"
   ]
  },
  {
   "cell_type": "code",
   "execution_count": 13,
   "metadata": {},
   "outputs": [
    {
     "name": "stderr",
     "output_type": "stream",
     "text": [
      "Number of requested results 4 is greater than number of elements in index 3, updating n_results = 3\n"
     ]
    },
    {
     "name": "stdout",
     "output_type": "stream",
     "text": [
      "Le dernier modèle lancé par Mistral AI n'est pas précisé dans le contexte fourni. Cependant, il est mentionné que trois modèles (Small, Medium et Large) sont disponibles uniquement via l'API de Mistral AI.\n"
     ]
    }
   ],
   "source": [
    "response = rag_chain.invoke({\"input\": \"Quel est le dernier modèle lancé par Mistral AI ?\"})\n",
    "print(response[\"answer\"])"
   ]
  },
  {
   "cell_type": "code",
   "execution_count": 14,
   "metadata": {},
   "outputs": [
    {
     "name": "stderr",
     "output_type": "stream",
     "text": [
      "Number of requested results 4 is greater than number of elements in index 3, updating n_results = 3\n"
     ]
    },
    {
     "name": "stdout",
     "output_type": "stream",
     "text": [
      "Macron a annoncé une élection législative anticipée après que son parti a subi une défaite importante aux élections européennes face à la droite populiste. Il a déclaré qu'il ne pouvait pas ignorer le résultat et que la dissolution de l'Assemblée nationale était un acte de confiance envers le peuple français. Le parti d'extrême droite, le Rassemblement National, est en passe de remporter un score record de 32 % des voix aux élections pour le Parlement européen, soit plus du double de la coalition qui soutient le président Macron, et il a donc réagi en appelant à des élections législatives anticipées.\n"
     ]
    }
   ],
   "source": [
    "response = rag_chain.invoke({\"input\": \"Qu'est ce que Macron a annoncé concernant l'assemblée nationale ?\"})\n",
    "print(response[\"answer\"])"
   ]
  }
 ],
 "metadata": {
  "kernelspec": {
   "display_name": ".venv",
   "language": "python",
   "name": "python3"
  },
  "language_info": {
   "codemirror_mode": {
    "name": "ipython",
    "version": 3
   },
   "file_extension": ".py",
   "mimetype": "text/x-python",
   "name": "python",
   "nbconvert_exporter": "python",
   "pygments_lexer": "ipython3",
   "version": "3.12.2"
  }
 },
 "nbformat": 4,
 "nbformat_minor": 2
}
