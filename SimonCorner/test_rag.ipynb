{
 "cells": [
  {
   "cell_type": "code",
   "execution_count": null,
   "metadata": {},
   "outputs": [],
   "source": [
    "import langchain\n",
    "import openai\n",
    "import os\n",
    "import sys\n",
    "import azure\n",
    "\n",
    "import azure_rag_utils\n",
    "\n",
    "from openai import AzureOpenAI\n",
    "from dotenv import load_dotenv\n",
    "from langchain_openai import AzureOpenAIEmbeddings\n",
    "from langchain.vectorstores.azuresearch import AzureSearch"
   ]
  },
  {
   "cell_type": "code",
   "execution_count": null,
   "metadata": {},
   "outputs": [],
   "source": [
    "load_dotenv()\n",
    "\n",
    "openai.api_type: str = \"azure\"\n",
    "openai.api_key = os.getenv(\"AZURE_OPENAI_API_KEY\")\n",
    "openai.api_version = os.getenv(\"AZURE_OPENAI_API_VERSION\")\n",
    "embed_model: str = os.getenv(\"DEPLOYMENT_NAME_EMBEDDING\")\n",
    "gptmodel: str = os.getenv(\"DEPLOYMENT_NAME_LLM\")\n",
    "\n",
    "client = AzureOpenAI(api_key=openai.api_key, api_version=openai.api_version)\n",
    "\n",
    "index_name: str = \"french-penal-code-rag\"\n"
   ]
  },
  {
   "cell_type": "code",
   "execution_count": null,
   "metadata": {},
   "outputs": [],
   "source": [
    "PDF_DIR = \"Documents\"\n",
    "pdf_files = [file for file in os.listdir(PDF_DIR) if file.lower().endswith(\".pdf\")]\n",
    "\n",
    "pdf_files"
   ]
  },
  {
   "cell_type": "code",
   "execution_count": null,
   "metadata": {},
   "outputs": [],
   "source": [
    "embed_model"
   ]
  },
  {
   "cell_type": "code",
   "execution_count": null,
   "metadata": {},
   "outputs": [],
   "source": [
    "embeddings: AzureOpenAIEmbeddings = AzureOpenAIEmbeddings(engine=embed_model)\n",
    "\n",
    "vectorstore: AzureSearch = AzureSearch(\n",
    "    index_name=index_name,\n",
    "    embedding_function=embeddings.embed_query,\n",
    ")"
   ]
  },
  {
   "cell_type": "code",
   "execution_count": null,
   "metadata": {},
   "outputs": [],
   "source": [
    "messages_history = []\n",
    "messages_history = azure_rag_utils.ask_gpt(\"Hello\", messages_history, gptmodel, client)\n",
    "\n",
    "messages_history = azure_rag_utils.ask_gpt(\"What can you do ?\", messages_history, gptmodel, client)"
   ]
  }
 ],
 "metadata": {
  "kernelspec": {
   "display_name": ".venv",
   "language": "python",
   "name": "python3"
  },
  "language_info": {
   "codemirror_mode": {
    "name": "ipython",
    "version": 3
   },
   "file_extension": ".py",
   "mimetype": "text/x-python",
   "name": "python",
   "nbconvert_exporter": "python",
   "pygments_lexer": "ipython3",
   "version": "3.12.0"
  }
 },
 "nbformat": 4,
 "nbformat_minor": 2
}
